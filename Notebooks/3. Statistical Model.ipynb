{
 "cells": [
  {
   "cell_type": "code",
   "execution_count": 3,
   "metadata": {},
   "outputs": [
    {
     "name": "stderr",
     "output_type": "stream",
     "text": [
      "C:\\Program Files\\Anaconda3\\lib\\site-packages\\statsmodels\\compat\\pandas.py:56: FutureWarning: The pandas.core.datetools module is deprecated and will be removed in a future version. Please use the pandas.tseries module instead.\n",
      "  from pandas.core import datetools\n"
     ]
    }
   ],
   "source": [
    "import pandas as pd\n",
    "import numpy as np\n",
    "import matplotlib.pyplot as plt\n",
    "import statsmodels.api as sm\n",
    "import statsmodels\n",
    "\n",
    "%matplotlib inline"
   ]
  },
  {
   "cell_type": "markdown",
   "metadata": {},
   "source": [
    "## 3. Statistical Model\n",
    "\n",
    "In the prior notebook we worked on downloading, exploring and combining data into a useful representation for modeling. In this notebook we will begin building a framework that will fit a model to the data. Specifically, we will build a weighted-least squares regression model to predict the forward 1M return of the S&P 500 using a set of macroeconomic variables. "
   ]
  },
  {
   "cell_type": "markdown",
   "metadata": {},
   "source": [
    "<div class=\"alert alert-info\" role=\"alert\">\n",
    "<span class=\"label label-primary\"> The Paper </span>\n",
    "\n",
    "2.2 Statistical Model \n",
    "\n",
    "Consider a forecasting regression of target 𝑌 𝑡+1 using a set of predictors 𝑍𝑗,𝑡: \n",
    "<br><br>\n"
   ]
  },
  {
   "cell_type": "markdown",
   "metadata": {},
   "source": [
    "<div class=\"alert alert-info\" role=\"alert\">\n",
    "![](statistical_model_1.png \"Title\")"
   ]
  },
  {
   "cell_type": "markdown",
   "metadata": {},
   "source": [
    "<div class=\"alert alert-info\" role=\"alert\">\n",
    "\n",
    "<a id='#snap_back_1'></a>\n",
    "Where 𝛼 is the regression intercept, 𝛽𝑗 are the forecasting coefficients, and 𝜀𝑡+1 is the forecast error.  In our application, 𝑌 𝑡+1 are the one-month ahead <a href='#supplemental_content_1'>equity risk premium</a>, and 𝑍𝑗,𝑡 are return predictors which are known this month.  The most commonly used and perhaps the best understood method to estimate the model above is using Ordinary Least Squares (OLS).  OLS has the following objective function:  \n",
    "<br><br>\n",
    "\n"
   ]
  },
  {
   "cell_type": "markdown",
   "metadata": {},
   "source": [
    "<div class=\"alert alert-info\" role=\"alert\">\n",
    "![](statistical_model_2.png \"Title\")"
   ]
  },
  {
   "cell_type": "markdown",
   "metadata": {},
   "source": [
    "<div class=\"alert alert-info\" role=\"alert\">\n",
    "\n",
    "We search over possible values for the forecasting coefficients and intercept, 𝛼 and 𝛽𝑗, to minimize the sum of squared residuals. \n",
    "<br><br>\n",
    "\n",
    "By construction, OLS puts equal weight on all data points.  Standing at time 𝑡, 𝑌 𝑡−1 receives the same weight as 𝑌 𝑡−12, which means the observation one year ago is just as important in estimating model coefficients as the observation last month.  While weighting observations equally is simple and easy to understand, as the economy evolves, more recent data may be more relevant compared to older data.  To allow for recent data to have a larger impact on our model, we consider weighted least square (WLS) with the following objective function: \n",
    "<br><br>\n"
   ]
  },
  {
   "cell_type": "markdown",
   "metadata": {},
   "source": [
    "<div class=\"alert alert-info\" role=\"alert\">\n",
    "![](statistical_model_3.png \"Title\")"
   ]
  },
  {
   "cell_type": "markdown",
   "metadata": {},
   "source": [
    "<div class=\"alert alert-info\" role=\"alert\">\n",
    "\n",
    "<a id='#snap_back_2'></a>\n",
    "<a id='#snap_back_3'></a>\n",
    "Where 𝜌 is the decay factor which we set to 0.99 at the monthly frequency.  This value implies a half-life of approximately 60 months.  Varying the value of 𝜌 such that the half-life of the <a href='#supplemental_content_2'>weights</a> ranges between 30 and 120 months does not materially affect our results.  OLS is a special case of <a href='#supplemental_content_3'>WLS</a> if we set 𝜌 to be one.   \n",
    "<br><br>\n",
    "\n",
    "We consider 15 forecasting variables, which means each time we fit the model we need to estimate 15 forecasting coefficients plus the intercept term for a total of 16 parameters.  We limit the number of estimated parameters through variable selection, which leads to more parsimonious models and generally results in better out-of-sample forecasting properties.  Parsimonious models are also easier to interpret and attribute performance.  It is easier to understand which variables contribute to forecasting results when there are fewer variables to consider.   \n",
    "<br><br>\n"
   ]
  },
  {
   "cell_type": "markdown",
   "metadata": {},
   "source": [
    "<span class=\"label label-warning\"> Assessment: Remember </span>\n",
    "    \n",
    "Which of the following are true?\n",
    "\n",
    " * In the WLS formulation we use, older data points have lower influence on the model than more recent observations\n",
    "\n",
    " * OLS is a special case of WLS but with a half life of 0.99\n",
    "\n",
    " * In WLS we calibrate model coefficients by minimizing the sum of squared weights. \n",
    "\n",
    " * The equity risk premium we use should be the return of the SPY ticker, to proxy the return of the S&P 500.\n",
    "\n",
    " * We use WLS, rather than OLS, in order to represent more expressive, nonlinear functions\n",
    "\n"
   ]
  },
  {
   "cell_type": "markdown",
   "metadata": {},
   "source": [
    "<span class=\"label label-warning\"> Assessment: Understand </span>\n",
    "\n",
    "The weight for each observation t is parameterized by our selection of rho (the greek letter that looks like \"p\") and the value of T (the total number of observations in the dataset). Would the weight of the first observation (the most distant one) be greater with a rho of 0.99 and a total of 300 observations or the weight for the 200th observation with a rho of 0.95 and 500 observations?"
   ]
  },
  {
   "cell_type": "code",
   "execution_count": null,
   "metadata": {},
   "outputs": [],
   "source": [
    "# TO DO"
   ]
  },
  {
   "cell_type": "code",
   "execution_count": 42,
   "metadata": {},
   "outputs": [
    {
     "name": "stdout",
     "output_type": "stream",
     "text": [
      "option1: 0.04953625663766235\n",
      "option2: 2.075303347768056e-07\n",
      "option1 has the greater weight\n"
     ]
    }
   ],
   "source": [
    "# option 1: first observation with rho = 0.99 and T = 300\n",
    "print('option1:', 0.99 ** (300-1))\n",
    "print('option2:', 0.95 ** (500-200))\n",
    "print('option1 has the greater weight')"
   ]
  },
  {
   "cell_type": "markdown",
   "metadata": {},
   "source": [
    "<span class=\"label label-warning\"> Assessment: Understand </span>\n",
    "\n",
    "Compare the weights for each observation for different values of rho and T. Describe the shape of the weight curves for varying levels of rho. \n",
    "\n",
    "If you want to put less weight on a more distant observation, should you use a lower or higher value of rho?\n"
   ]
  },
  {
   "cell_type": "code",
   "execution_count": null,
   "metadata": {},
   "outputs": [],
   "source": [
    "# TODO"
   ]
  },
  {
   "cell_type": "code",
   "execution_count": 4,
   "metadata": {},
   "outputs": [
    {
     "data": {
      "image/png": "[encoded data removed]",
      "text/plain": [
       "<matplotlib.figure.Figure at 0x23111ff6780>"
      ]
     },
     "metadata": {},
     "output_type": "display_data"
    }
   ],
   "source": [
    "#######################################\n",
    "# SAMPLE\n",
    "# DO NOT MAKE ANY CHANGES IN THIS CELL\n",
    "#######################################\n",
    "\n",
    "ro = 0.99\n",
    "big_t = 100\n",
    "small_t = range(100)\n",
    "f, axes = plt.subplots(1,1, figsize = (10,6))\n",
    "\n",
    "# let's plot the \"weight-curves\" using different values of rho and T\n",
    "\n",
    "# try different values of rho\n",
    "for rho in [0.90, 0.95, 0.99]:\n",
    "\n",
    "    # try different values of T\n",
    "    for big_t in [100]:\n",
    "        \n",
    "        # create a dataframe to store results for the specified rho and T values\n",
    "        df = pd.DataFrame()\n",
    "        small_t = range(big_t)\n",
    "        result = []\n",
    "        \n",
    "        # iterate through every value of t from 0 to T\n",
    "        for t in small_t:\n",
    "            \n",
    "            # calculate the weight at t and collect the results\n",
    "            result.append(rho**(big_t - t))\n",
    "        \n",
    "        # attach the results to the dataframe\n",
    "        df['rho_{}_T_{}'.format(rho, big_t)] = result\n",
    "\n",
    "        df.plot(ax = axes)\n",
    "        \n",
    "# higher levels of rho lead to a flatter weight curve while lower levels lead to steeper, more bowed curves.\n",
    "\n",
    "# for the same number of observations, lower rho values will mean less weight and less influence of early observations\n",
    "# and relatively greater influence of more recent observations\n",
    "        "
   ]
  },
  {
   "cell_type": "markdown",
   "metadata": {},
   "source": [
    "<span class=\"label label-warning\"> Assessment: Apply </span>\n",
    "\n",
    "Use the dataset you assembled at the end of Notebook 2 and fit a WLS regression model to the first 100 observations (so big \"T\" is 100). The point is to use the explanatory variables to try to predict the market return. Save a dictionary with the model coefficients, R^2, and any other metric that you think is important to record. \n"
   ]
  },
  {
   "cell_type": "code",
   "execution_count": null,
   "metadata": {},
   "outputs": [],
   "source": [
    "# TODO\n"
   ]
  },
  {
   "cell_type": "code",
   "execution_count": 215,
   "metadata": {
    "scrolled": true
   },
   "outputs": [
    {
     "data": {
      "text/plain": [
       "{'aic': -268.58412817053119,\n",
       " 'change_inflation': 0.06052813558541774,\n",
       " 'change_inflation_pval': 0.8870441193928381,\n",
       " 'change_unemployment': -0.03266824063461128,\n",
       " 'change_unemployment_pval': 0.3657847595434157,\n",
       " 'const': 0.003675668788690407,\n",
       " 'const_pval': 0.8601092878060164,\n",
       " 'credit_risk_premium': -0.00014146255549320284,\n",
       " 'credit_risk_premium_pval': 0.9911820245997037,\n",
       " 'delinquencies': -1.3081304164003558,\n",
       " 'delinquencies_pval': 0.6977624226152614,\n",
       " 'housing_starts': 0.029333244445516545,\n",
       " 'housing_starts_pval': 0.7333870338800501,\n",
       " 'industrial_production': 0.026741398922319123,\n",
       " 'industrial_production_pval': 0.48606854251516063,\n",
       " 'model_vars': ['delinquencies',\n",
       "  'change_unemployment',\n",
       "  'housing_starts',\n",
       "  'industrial_production',\n",
       "  'const',\n",
       "  'change_inflation',\n",
       "  'credit_risk_premium',\n",
       "  'slope_interest_rate'],\n",
       " 'mse': 0.0014014091191013741,\n",
       " 'n_obs': 85.0,\n",
       " 'portfolio_date': Timestamp('2005-03-31 00:00:00'),\n",
       " 'r_squared': 0.035339045883256981,\n",
       " 'r_squared_adjusted': -0.052357404490992243,\n",
       " 'slope_interest_rate': -0.11038175123230937,\n",
       " 'slope_interest_rate_pval': 0.8724025797053908}"
      ]
     },
     "execution_count": 215,
     "metadata": {},
     "output_type": "execute_result"
    }
   ],
   "source": [
    "#######################################\n",
    "# SAMPLE\n",
    "# DO NOT MAKE ANY CHANGES IN THIS CELL\n",
    "#######################################\n",
    "\n",
    "\n",
    "training_data = pd.read_hdf('training_data.hdf')\n",
    "\n",
    "# define a function to run a regression on a given set of data\n",
    "def WLS_regression(data, \n",
    "                   x_vars = ['industrial_production', 'change_inflation', 'credit_risk_premium',\n",
    "           'slope_interest_rate', 'housing_starts', 'delinquencies', 'change_unemployment'],\n",
    "                   rho = 0.99):\n",
    "    \n",
    "    df = data.copy()\n",
    "    df.dropna(axis = 0, inplace = True)\n",
    "    \n",
    "    # make sure the data is sorted chronologically\n",
    "    df.sort_values(by = 'portfolio_date', inplace = True)\n",
    "    \n",
    "    # get the number of observations in the dataset\n",
    "    big_t = df.shape[0] + 1\n",
    "    \n",
    "    # construct the weights to use for each observation\n",
    "    # the most distant observation will have a small weight\n",
    "    # and the most recent observation will have a big weight\n",
    "    weights = []\n",
    "    for small_t in range(1, big_t):\n",
    "        weights.append(rho**(big_t - small_t))\n",
    "    weights = np.array(weights)\n",
    "    \n",
    "    # create the explanatory variables\n",
    "    X = df[x_vars]\n",
    "    \n",
    "    # now fit a model using the statsmodel WLS function\n",
    "    #sm.WLS(y_data, x_data, weights)\n",
    "    model_wls = sm.WLS(df['forward_spy_return'], statsmodels.tools.tools.add_constant(X), weights = weights)\n",
    "    fit_wls = model_wls.fit()\n",
    "    \n",
    "    # save the coefficients into a dictionary\n",
    "    results = fit_wls.params.to_dict()\n",
    "    \n",
    "    # add the r-squared, number of observations, etc\n",
    "    results['r_squared'] = fit_wls.rsquared\n",
    "    results['r_squared_adjusted'] = fit_wls.rsquared_adj\n",
    "\n",
    "    results['n_obs'] = fit_wls.nobs\n",
    "    results['mse'] = fit_wls.mse_total\n",
    "    results['aic'] = fit_wls.aic\n",
    "    results['model_vars'] = list(fit_wls.params.to_dict().keys())\n",
    "    \n",
    "    # add the pvalues (statistical significance of each coefficient)\n",
    "    pvalues_dict = fit_wls.pvalues.to_dict() \n",
    "    for p in pvalues_dict.keys():\n",
    "        results['{}_pval'.format(p)] = pvalues_dict[p]\n",
    "        \n",
    "    # add the date of the estimation\n",
    "    results['portfolio_date'] = df['portfolio_date'].max()\n",
    "    \n",
    "    return results\n",
    "\n",
    "\n",
    "results = WLS_regression(training_data.iloc[0:100], rho = 0.99)\n",
    "results"
   ]
  },
  {
   "cell_type": "markdown",
   "metadata": {},
   "source": [
    "<span class=\"label label-warning\"> Assessment: Analyze </span>\n",
    "\n",
    "In their introduction, Hull et al. indicated as thus:\n",
    "\n",
    "\"We use weighted least squares (WLS) regression with stepwise variable selection to build a forecasting model for next month’s market excess returns.  We estimate our forecasting model at the end of every month using an expanding window.\"\n",
    "\n",
    "At this point we've implemented WLS. Let's look at the next part about re-estimating a new model at the end of each month. \n",
    "\n",
    "Hull et al. have said before that \"as the economy evolves, more recent data may be more relevant compared to older data.\" By re-estimating the model each month they expect to capture market behavior that emerges each month that might not have any historical precedent. \n",
    "\n",
    "Compare the model that you would generate in 2006 compared to the model you would generate in 2016. What are the differences? Can you construct a narrative that might explain what you see?"
   ]
  },
  {
   "cell_type": "code",
   "execution_count": null,
   "metadata": {},
   "outputs": [],
   "source": [
    "# TODO"
   ]
  },
  {
   "cell_type": "code",
   "execution_count": 218,
   "metadata": {},
   "outputs": [
    {
     "name": "stdout",
     "output_type": "stream",
     "text": [
      "                     var     y2006     y2016\n",
      "0          delinquencies -0.840086 -0.023595\n",
      "0    change_unemployment -0.021277 -0.041203\n",
      "0         housing_starts  0.025248 -0.017528\n",
      "0  industrial_production  0.016431 -0.008672\n",
      "0                  const  0.013646  0.000879\n",
      "0       change_inflation  0.121242  0.053859\n",
      "0    credit_risk_premium -0.003583  0.007421\n",
      "0    slope_interest_rate -0.297296 -0.323293\n"
     ]
    },
    {
     "data": {
      "image/png": "[encoded data removed]",
      "text/plain": [
       "<matplotlib.figure.Figure at 0x244d721ca90>"
      ]
     },
     "metadata": {},
     "output_type": "display_data"
    }
   ],
   "source": [
    "#######################################\n",
    "# SAMPLE\n",
    "# DO NOT MAKE ANY CHANGES IN THIS CELL\n",
    "#######################################\n",
    "# run the model using data through December 2006\n",
    "results_2006 = WLS_regression(training_data.iloc[0:121], rho = 0.99)\n",
    "results_2006\n",
    "\n",
    "# run the model using data through December 2016\n",
    "results_2016 = WLS_regression(training_data.iloc[0:241], rho = 0.99)\n",
    "results_2016\n",
    "\n",
    "# collect the coefficients for each variable using the 2006 and 2016 dataset\n",
    "# and compare them:\n",
    "comparison = pd.DataFrame()\n",
    "for var in results_2016['model_vars']:\n",
    "    temp = pd.DataFrame({'var': [var],\n",
    "                        'y2006': [results_2006[var]],\n",
    "                        'y2016': [results_2016[var]]})\n",
    "    comparison = comparison.append(temp)\n",
    "    \n",
    "# below you can see that the coefficient for delinquencies has swung dramatically from 2006 to 2016. \n",
    "# perhaps counter intuitively, in 2016 delinquencies have less impact on future market returns. This is\n",
    "# despite the fact that the 2016 period included the 2008 financial crisis and housing market collapse\n",
    "\n",
    "# furthermore, increased housing starts used to be positively correlated with market returns (2006 period)\n",
    "# but in the 2016 period it is negatively correlated. This flip in the coefficient sign will be difficult to handle. \n",
    "# recall in Notebook 2 that collected the expected coefficient signs for each variable. This is showing that the coefficient,\n",
    "# in addition to just becoming bigger or smaller over time, can also outright flip sign. What does that mean when  \n",
    "# we compare the actual derived coefficient sign with our expected coefficient sign? How much trust\n",
    "# should we put into the results if they counter our expectations? Changes in industrial production \n",
    "# and the credit risk premium variables also saw a reversal in coefficient signs. \n",
    "    \n",
    "comparison.set_index('var').plot.bar()\n",
    "print(comparison)"
   ]
  },
  {
   "cell_type": "markdown",
   "metadata": {},
   "source": [
    "<span class=\"label label-warning\"> Assessment: Evaluate </span>\n",
    "\n",
    "In the \"Assessment: Apply\" exercise above you were tasked to \"save a dictionary with the model coefficients, R^2, and any other metric that you think is important to record.\" Hopefully you thought that maybe saving information about model performance would be useful. \n",
    "\n",
    "What are some traditional ways of evaluating a linear regression model? Hull et al. mention using the root mean square error (RMSE) and we'll utilize that later when we actually construct trade positions. Another metric that indicates how good your model is fitting the data is the R^2 which hopefully you already have some experience with. If not, here are some resources: \n",
    "\n",
    "http://statisticsbyjim.com/regression/interpret-r-squared-regression/\n",
    "\n",
    "http://analyticspro.org/2016/03/14/r-tutorial-interpretation-of-r-squared-and-adjusted-r-squared-in-regression/\n",
    "\n",
    "Let's talk about R^2 in trading. Brace yourself but R^2 values in predicting stocks usually look terrible. \n",
    "\n",
    "This resource gives us a few example R^2 values:\n",
    " * predict the height of a building based on the number of stories: R^2 of 90%\n",
    " * predict how far a driver can see based on driver's age: R^2 of 64%\n",
    " \n",
    "https://onlinecourses.science.psu.edu/stat462/node/97/\n",
    "\n",
    "And this data source recommends that R^2 of 60% are usual for pure science fields and closer to 10% for social sciences. \n",
    "\n",
    "https://www.researchgate.net/post/what_is_the_acceptable_r-squared_value\n",
    "\n",
    "Well... for predicting stock returns a usual R^2 is less than 2%\n",
    "\n",
    "https://quant.stackexchange.com/questions/33432/r-squared-statistic-in-predictions-of-returns\n",
    "\n",
    "Critique the performance of the model based on some of the data you've assembled so far. Hull et al. used the 2003 to 2017 period for their analysis so let's do that too. How should you design an R^2 test? For now you can just test the in-sample R^2. So collect the R^2 everytime you estimate each monthly model.  "
   ]
  },
  {
   "cell_type": "code",
   "execution_count": null,
   "metadata": {
    "scrolled": false
   },
   "outputs": [],
   "source": [
    "# TODO"
   ]
  },
  {
   "cell_type": "code",
   "execution_count": 225,
   "metadata": {},
   "outputs": [
    {
     "data": {
      "text/plain": [
       "<matplotlib.axes._subplots.AxesSubplot at 0x244d73d10b8>"
      ]
     },
     "execution_count": 225,
     "metadata": {},
     "output_type": "execute_result"
    },
    {
     "data": {
      "image/png": "[encoded data removed]",
      "text/plain": [
       "<matplotlib.figure.Figure at 0x244d75bd518>"
      ]
     },
     "metadata": {},
     "output_type": "display_data"
    }
   ],
   "source": [
    "#######################################\n",
    "# SAMPLE\n",
    "# DO NOT MAKE ANY CHANGES IN THIS CELL\n",
    "#######################################\n",
    "\n",
    "\n",
    "# let's get the 'in-sample' r^2 everytime we estimate the model parameters\n",
    "# this is the R^2 that is based on the difference between actual and predicted S&P 500 monthly returns\n",
    "\n",
    "# for my data, the 85th row corresponds to December 2003 and the 254th row corresponds to December 2017\n",
    "# iterate from 85 to 254 to cover each expanding window\n",
    "dates_results = []\n",
    "r_squared_results = []\n",
    "for i in range(85, 254):\n",
    "    \n",
    "    # estimate the model on the trailing data\n",
    "    results = WLS_regression(training_data.iloc[0:i], rho = 0.99)\n",
    "    \n",
    "    # collect the date and r^2 to use later in a chart\n",
    "    dates_results.append(results['portfolio_date'])\n",
    "    r_squared_results.append(results['r_squared'])\n",
    "    \n",
    "# let's make a dataframe and chart the results\n",
    "df = pd.DataFrame({'portfolio_date': dates_results,\n",
    "                  'r_squared': r_squared_results})\n",
    "df.sort_values(by = 'portfolio_date', inplace = True)\n",
    "df.set_index('portfolio_date').plot(title = 'In-sample R^2 over time')\n",
    "    \n",
    "# Below you can see that the R^2 are far higher than the ~1.5% R^2 benchmark for forecasting stock returns. \n",
    "# At times, the R^2 is phenomenal (near 25%)\n",
    "# so this is a really good sign that we can predict the market"
   ]
  },
  {
   "cell_type": "markdown",
   "metadata": {},
   "source": [
    "<span class=\"label label-warning\"> Assessment: Create </span>\n",
    "\n",
    "Now design a test for out-of-sample.  To do that think about what would be considered your in-sample dataset and what constitutes the out-of-sample dataset given that you are using an expanding window with monthly re-estimations of the model coefficients. \n",
    "\n",
    "Having good in-sample performance is nice but it's ultimately not what you are trying to target. What you want is high out-of-sample performance. With in-sample data, you are essentially embracing data leakage and incorporating data from the future. For example, let's say that I estimate a model in 2018 using data from 1990 to 2000. I know what the market returns were from 1990 and 2000 and therefore used that to estimate the model. When I then estimate the model I should not be surprised if I fit a model that does a good job of predicting the market returns in 1993 because the 1993 period was part of the data used to construct the model in the first place. What would be more impressive is if a model that used data from 1990 to 2000 was able to predict the market in 2001. \n",
    "\n",
    "Design a testing procedure to evaluate your model \"out-of-sample\". By out-of-sample we mean that you should estimate your model on a training data set, and then use the model you just estimated on another sample of data. This 'out-of-sample' data should not have been part of the training data. \n",
    "\n"
   ]
  },
  {
   "cell_type": "code",
   "execution_count": null,
   "metadata": {},
   "outputs": [],
   "source": [
    "# TODO"
   ]
  },
  {
   "cell_type": "markdown",
   "metadata": {},
   "source": [
    "[example pseudocode]\n",
    "\n",
    "iterate through each monthly date\n",
    "\n",
    "    construct the the in-sample data as all data through the month prior to this month\n",
    "    estimate the model coefficients\n",
    "    \n",
    "    construct the out-of-sample data as the specified monthly date (only one row of data)\n",
    "    make the prediction for the specified monthly date's 1M forward market return\n",
    "    \n",
    "    collect the predicted return and the actual return of the current month\n",
    "    \n",
    "calculate the R^2 between actual and predicted returns over all the months iterated over above\n",
    "    "
   ]
  },
  {
   "cell_type": "markdown",
   "metadata": {},
   "source": [
    "### End Lesson\n",
    "\n",
    "That's it for this notebook. You can proceed to the next workbook"
   ]
  },
  {
   "cell_type": "markdown",
   "metadata": {},
   "source": [
    "[intentionally left blank]\n",
    "<br><br>\n",
    "<br><br>\n",
    "<br><br>\n",
    "<br><br>\n",
    "<br><br>\n",
    "<br><br>\n",
    "<br><br>\n",
    "<br><br>\n",
    "<br><br>\n",
    "<br><br>\n",
    "<br><br>\n",
    "<br><br>\n",
    "<br><br>\n",
    "<br><br>\n",
    "<br><br>\n"
   ]
  },
  {
   "cell_type": "code",
   "execution_count": null,
   "metadata": {},
   "outputs": [],
   "source": []
  },
  {
   "cell_type": "markdown",
   "metadata": {},
   "source": [
    "<span class=\"label label-success\"> Commentary and Supplemental Content </span>\n",
    "<a id='#supplemental_content_3'></a>    \n",
    "    \n",
    "Below is a simple demonstration of weighted vs un-weighted regression on some artificial data.\n"
   ]
  },
  {
   "cell_type": "code",
   "execution_count": 129,
   "metadata": {},
   "outputs": [
    {
     "data": {
      "text/plain": [
       "<matplotlib.collections.PathCollection at 0x244d395c358>"
      ]
     },
     "execution_count": 129,
     "metadata": {},
     "output_type": "execute_result"
    },
    {
     "data": {
      "image/png": "[encoded data removed]",
      "text/plain": [
       "<matplotlib.figure.Figure at 0x244d377ebe0>"
      ]
     },
     "metadata": {},
     "output_type": "display_data"
    }
   ],
   "source": [
    "# create 10 random values (between 0 and 1)\n",
    "x1 = np.random.random(10)\n",
    "\n",
    "# create y values for each x value\n",
    "# y is a linear function of x (ex: y = mx + b)\n",
    "# where we set m = 2.5, b = 1.0\n",
    "# and then we add some random noise (so there won't be a perfectly fit curve)\n",
    "y1 = 2.5 * x1 + 1.0 + np.random.random(10) * 0.5\n",
    "\n",
    "# now plot x,y in a scatter plot\n",
    "\n",
    "plt.scatter(x1,y1)"
   ]
  },
  {
   "cell_type": "code",
   "execution_count": 130,
   "metadata": {},
   "outputs": [
    {
     "name": "stdout",
     "output_type": "stream",
     "text": [
      "                            OLS Regression Results                            \n",
      "==============================================================================\n",
      "Dep. Variable:                      y   R-squared:                       0.937\n",
      "Model:                            OLS   Adj. R-squared:                  0.929\n",
      "Method:                 Least Squares   F-statistic:                     118.8\n",
      "Date:                Thu, 05 Jul 2018   Prob (F-statistic):           4.45e-06\n",
      "Time:                        16:03:16   Log-Likelihood:                 5.4449\n",
      "No. Observations:                  10   AIC:                            -6.890\n",
      "Df Residuals:                       8   BIC:                            -6.285\n",
      "Df Model:                           1                                         \n",
      "Covariance Type:            nonrobust                                         \n",
      "==============================================================================\n",
      "                 coef    std err          t      P>|t|      [0.025      0.975]\n",
      "------------------------------------------------------------------------------\n",
      "const          1.2644      0.126     10.018      0.000       0.973       1.555\n",
      "x1             2.4320      0.223     10.898      0.000       1.917       2.947\n",
      "==============================================================================\n",
      "Omnibus:                        4.205   Durbin-Watson:                   2.292\n",
      "Prob(Omnibus):                  0.122   Jarque-Bera (JB):                1.166\n",
      "Skew:                          -0.212   Prob(JB):                        0.558\n",
      "Kurtosis:                       1.382   Cond. No.                         5.76\n",
      "==============================================================================\n",
      "\n",
      "Warnings:\n",
      "[1] Standard Errors assume that the covariance matrix of the errors is correctly specified.\n"
     ]
    },
    {
     "name": "stderr",
     "output_type": "stream",
     "text": [
      "C:\\Program Files\\Anaconda3\\lib\\site-packages\\scipy\\stats\\stats.py:1334: UserWarning: kurtosistest only valid for n>=20 ... continuing anyway, n=10\n",
      "  \"anyway, n=%i\" % int(n))\n"
     ]
    }
   ],
   "source": [
    "# now let's fit a line to the points above\n",
    "# we'll use a regular regression (OLS)\n",
    "\n",
    "# (note below that we add a constant term to the data)\n",
    "\n",
    "model_ols = sm.OLS(y1, statsmodels.tools.tools.add_constant(x1))\n",
    "fit_ols = model_ols.fit()\n",
    "print(fit_ols.summary())"
   ]
  },
  {
   "cell_type": "markdown",
   "metadata": {},
   "source": [
    "Note above that the constant is ~1.26 and the coefficient is 2.43. These are very close to the values we set before (b = 1.0 , m =  2.5). So we were able to fit a good curve and find the actual parameters that were used to generate the data. \n",
    "\n",
    "Now let's create another set of data but generate the y-values using different parameters. Let's set m = 5.0 and b = 10.0. "
   ]
  },
  {
   "cell_type": "code",
   "execution_count": 131,
   "metadata": {},
   "outputs": [
    {
     "data": {
      "text/plain": [
       "<matplotlib.collections.PathCollection at 0x244d39b5400>"
      ]
     },
     "execution_count": 131,
     "metadata": {},
     "output_type": "execute_result"
    },
    {
     "data": {
      "image/png": "[encoded data removed]",
      "text/plain": [
       "<matplotlib.figure.Figure at 0x244d371de48>"
      ]
     },
     "metadata": {},
     "output_type": "display_data"
    }
   ],
   "source": [
    "# create 100 random values (between 0 and 1)\n",
    "x2 = np.random.random(10) + 1.0\n",
    "\n",
    "# create y values\n",
    "y2 = 5.0 * x2 + 10.0 + np.random.random(10) * 0.5\n",
    "plt.scatter(x2,y2)"
   ]
  },
  {
   "cell_type": "code",
   "execution_count": 132,
   "metadata": {},
   "outputs": [
    {
     "name": "stdout",
     "output_type": "stream",
     "text": [
      "                            OLS Regression Results                            \n",
      "==============================================================================\n",
      "Dep. Variable:                      y   R-squared:                       0.986\n",
      "Model:                            OLS   Adj. R-squared:                  0.984\n",
      "Method:                 Least Squares   F-statistic:                     556.6\n",
      "Date:                Thu, 05 Jul 2018   Prob (F-statistic):           1.11e-08\n",
      "Time:                        16:06:21   Log-Likelihood:                 3.0876\n",
      "No. Observations:                  10   AIC:                            -2.175\n",
      "Df Residuals:                       8   BIC:                            -1.570\n",
      "Df Model:                           1                                         \n",
      "Covariance Type:            nonrobust                                         \n",
      "==============================================================================\n",
      "                 coef    std err          t      P>|t|      [0.025      0.975]\n",
      "------------------------------------------------------------------------------\n",
      "const         10.2164      0.320     31.891      0.000       9.478      10.955\n",
      "x1             5.0074      0.212     23.592      0.000       4.518       5.497\n",
      "==============================================================================\n",
      "Omnibus:                        5.083   Durbin-Watson:                   1.707\n",
      "Prob(Omnibus):                  0.079   Jarque-Bera (JB):                1.194\n",
      "Skew:                          -0.019   Prob(JB):                        0.550\n",
      "Kurtosis:                       1.308   Cond. No.                         11.0\n",
      "==============================================================================\n",
      "\n",
      "Warnings:\n",
      "[1] Standard Errors assume that the covariance matrix of the errors is correctly specified.\n"
     ]
    },
    {
     "name": "stderr",
     "output_type": "stream",
     "text": [
      "C:\\Program Files\\Anaconda3\\lib\\site-packages\\scipy\\stats\\stats.py:1334: UserWarning: kurtosistest only valid for n>=20 ... continuing anyway, n=10\n",
      "  \"anyway, n=%i\" % int(n))\n"
     ]
    }
   ],
   "source": [
    "# and again, let's fit a curve to this second set of data\n",
    "model_ols = sm.OLS(y2, statsmodels.tools.tools.add_constant(x2))\n",
    "fit_ols = model_ols.fit()\n",
    "print(fit_ols.summary())"
   ]
  },
  {
   "cell_type": "markdown",
   "metadata": {},
   "source": [
    "Again, we were able to fit a curve that matches the data well and the derived coefficients match the actual data-generating parameters. \n",
    "\n",
    "What happens if we combine the first and second datasets? "
   ]
  },
  {
   "cell_type": "code",
   "execution_count": 111,
   "metadata": {},
   "outputs": [
    {
     "data": {
      "text/plain": [
       "<matplotlib.collections.PathCollection at 0x244d36bb630>"
      ]
     },
     "execution_count": 111,
     "metadata": {},
     "output_type": "execute_result"
    },
    {
     "data": {
      "image/png": "[encoded data removed]",
      "text/plain": [
       "<matplotlib.figure.Figure at 0x244d2536208>"
      ]
     },
     "metadata": {},
     "output_type": "display_data"
    }
   ],
   "source": [
    "x = np.concatenate((x1,x2))\n",
    "y = np.concatenate((y1,y2))\n",
    "plt.scatter(x,y)"
   ]
  },
  {
   "cell_type": "markdown",
   "metadata": {},
   "source": [
    "We can clearly see that the two datasets behave differently and are governed by two different processes (we can relate this to the investment world by speculating that maybe the market behavior during a recession versus market behavior during an expansion are governed according to different norms). \n",
    "\n",
    "Let's try to fit a single model to the combined dataset."
   ]
  },
  {
   "cell_type": "code",
   "execution_count": 133,
   "metadata": {
    "scrolled": true
   },
   "outputs": [
    {
     "name": "stdout",
     "output_type": "stream",
     "text": [
      "                            OLS Regression Results                            \n",
      "==============================================================================\n",
      "Dep. Variable:                      y   R-squared:                       0.849\n",
      "Model:                            OLS   Adj. R-squared:                  0.841\n",
      "Method:                 Least Squares   F-statistic:                     101.3\n",
      "Date:                Thu, 05 Jul 2018   Prob (F-statistic):           8.10e-09\n",
      "Time:                        16:10:39   Log-Likelihood:                -50.058\n",
      "No. Observations:                  20   AIC:                             104.1\n",
      "Df Residuals:                      18   BIC:                             106.1\n",
      "Df Model:                           1                                         \n",
      "Covariance Type:            nonrobust                                         \n",
      "==============================================================================\n",
      "                 coef    std err          t      P>|t|      [0.025      0.975]\n",
      "------------------------------------------------------------------------------\n",
      "const         -2.8434      1.460     -1.947      0.067      -5.911       0.225\n",
      "x1            12.9281      1.285     10.064      0.000      10.229      15.627\n",
      "==============================================================================\n",
      "Omnibus:                        0.577   Durbin-Watson:                   1.316\n",
      "Prob(Omnibus):                  0.750   Jarque-Bera (JB):                0.609\n",
      "Skew:                          -0.093   Prob(JB):                        0.738\n",
      "Kurtosis:                       2.166   Cond. No.                         3.97\n",
      "==============================================================================\n",
      "\n",
      "Warnings:\n",
      "[1] Standard Errors assume that the covariance matrix of the errors is correctly specified.\n"
     ]
    }
   ],
   "source": [
    "\n",
    "model_ols = sm.OLS(y, statsmodels.tools.tools.add_constant(x))\n",
    "fit_ols = model_ols.fit()\n",
    "print(fit_ols.summary())"
   ]
  },
  {
   "cell_type": "markdown",
   "metadata": {},
   "source": [
    "We end up with a slope of around 13 and an intercept of around -3... which is vastly different than the slopes and intercepts when we viewed either dataset in isolation. \n",
    "\n",
    "Now let's imagine we want to pay less attention to the second dataset. Say we believe that the datasets represent observations we made on some phenomenon but we strongly believe that our instruments were malfunctioning when we took the measurements of the second group. We could just drop those observations entirely but we decide to keep them because maybe they do hold some value.\n",
    "\n",
    "In order to \"pay less attention\" to some data we can weight those observations less. "
   ]
  },
  {
   "cell_type": "code",
   "execution_count": 137,
   "metadata": {},
   "outputs": [
    {
     "data": {
      "text/plain": [
       "array([ 1.   ,  1.   ,  1.   ,  1.   ,  1.   ,  1.   ,  1.   ,  1.   ,\n",
       "        1.   ,  1.   ,  0.001,  0.001,  0.001,  0.001,  0.001,  0.001,\n",
       "        0.001,  0.001,  0.001,  0.001])"
      ]
     },
     "execution_count": 137,
     "metadata": {},
     "output_type": "execute_result"
    }
   ],
   "source": [
    "# the weights for the first ten observations (the first group)\n",
    "# each get a weight of 1\n",
    "w1 = np.array([1.] * 10)\n",
    "\n",
    "# the weights for the next ten observations (the second group)\n",
    "# each get a smaller weight\n",
    "w2 = np.array([.001] * 10)\n",
    "w = np.concatenate((w1,w2))\n",
    "\n",
    "# view the weights \n",
    "# the first ten weights are 1\n",
    "# while the next ten weights are much smaller than 1\n",
    "w\n"
   ]
  },
  {
   "cell_type": "code",
   "execution_count": 138,
   "metadata": {},
   "outputs": [
    {
     "name": "stdout",
     "output_type": "stream",
     "text": [
      "                            WLS Regression Results                            \n",
      "==============================================================================\n",
      "Dep. Variable:                      y   R-squared:                       0.741\n",
      "Model:                            WLS   Adj. R-squared:                  0.727\n",
      "Method:                 Least Squares   F-statistic:                     51.62\n",
      "Date:                Thu, 05 Jul 2018   Prob (F-statistic):           1.09e-06\n",
      "Time:                        16:18:15   Log-Likelihood:                -38.823\n",
      "No. Observations:                  20   AIC:                             81.65\n",
      "Df Residuals:                      18   BIC:                             83.64\n",
      "Df Model:                           1                                         \n",
      "Covariance Type:            nonrobust                                         \n",
      "==============================================================================\n",
      "                 coef    std err          t      P>|t|      [0.025      0.975]\n",
      "------------------------------------------------------------------------------\n",
      "const          1.1219      0.225      4.980      0.000       0.649       1.595\n",
      "x1             2.7051      0.377      7.185      0.000       1.914       3.496\n",
      "==============================================================================\n",
      "Omnibus:                        4.160   Durbin-Watson:                   0.353\n",
      "Prob(Omnibus):                  0.125   Jarque-Bera (JB):                2.118\n",
      "Skew:                          -0.525   Prob(JB):                        0.347\n",
      "Kurtosis:                       1.801   Cond. No.                         4.92\n",
      "==============================================================================\n",
      "\n",
      "Warnings:\n",
      "[1] Standard Errors assume that the covariance matrix of the errors is correctly specified.\n"
     ]
    }
   ],
   "source": [
    "# now fit a model to all of the data, but using the uneven weights\n",
    "model_wls = sm.WLS(y, statsmodels.tools.tools.add_constant(x), weights = w)\n",
    "fit_wls = model_wls.fit()\n",
    "print(fit_wls.summary())"
   ]
  },
  {
   "cell_type": "markdown",
   "metadata": {},
   "source": [
    "In increasing the relative weight of the first group versus the second, we can see that the new coefficients closely match the parameters that were used to generate the data in the first group. \n",
    "\n",
    "Let's look at that visually. Below you can see the fitted line in red and how it does a good job of matching the first data group. "
   ]
  },
  {
   "cell_type": "code",
   "execution_count": 139,
   "metadata": {},
   "outputs": [
    {
     "data": {
      "text/plain": [
       "[<matplotlib.lines.Line2D at 0x244d3868588>]"
      ]
     },
     "execution_count": 139,
     "metadata": {},
     "output_type": "execute_result"
    },
    {
     "data": {
      "image/png": "[encoded data removed]",
      "text/plain": [
       "<matplotlib.figure.Figure at 0x244d1f6e048>"
      ]
     },
     "metadata": {},
     "output_type": "display_data"
    }
   ],
   "source": [
    "y_hat = fit_wls.predict()\n",
    "plt.scatter(x, y)\n",
    "plt.plot(x, y_hat, color = 'r')"
   ]
  },
  {
   "cell_type": "markdown",
   "metadata": {},
   "source": [
    "\n",
    "<a href='#snap_back_3'>go back to main body</a>"
   ]
  },
  {
   "cell_type": "markdown",
   "metadata": {},
   "source": [
    "<a id='#supplemental_content_1'></a>\n",
    "<span class=\"label label-success\"> Commentary and Supplemental Content </span>\n",
    "\n",
    "### What is the Equity Risk Premium?\n",
    "\n",
    "The equity risk premium is a fundamental concept in finance and is at its core the amount that risky securities need to pay you in order for you to prefer holding them versus holding non-risky securities. \n",
    "\n",
    "Let's imagine a simplified scenario. We are investors and we have money to invest. There are two parties that want our money. The US government wants our money in order to pay for things like national defense, nutritional assistance programs, healthcare for the poor and elderly, and foreign aid. The government says they will pay us 3% on our investment every year guaranteed (and let's just accept on face value that their guarantee is actually good). So there is no risk that we won't get our original investment back plus the 3% per year they promised. \n",
    "\n",
    "Alternatively, another group wants our money. This group is a collection of all US corporations. They want our money in order to build factories, pay their employees, buy other companies and invest in research to develop new technologies. This investment is inherently risky because there's no guarantee that their factories will make a product people want to buy or that their research in new technology will discover anything of value. So it's possible they will be able to pay us 10% in a given year, a possibility they'll only be able to pay 5% in another year, a possibility they won't be able to pay us anything (say -20% in yet another year), and really an infinite number of possible payoff scenarios. \n",
    "\n",
    "If on average the corporations could only pay you 2% per year then that's not a very good proposition. They will pay you less than the government (3%) and do so with greater uncertainty of the payoff each year. That uncertainty is generally considered a negative and therefore in order to compensate you for taking on that negative (uncertainty), they really should pay you more. The amount that they pay you above the risk-free rate is known as the equity risk premium. \n",
    "\n",
    "So let's say that corporations say that they will pay you on average 5% per year and the government will pay you 3%. Your excess return, aka the equity risk premium, is 2%. We don't consider the 3% to be particularly meaningful because you could have gotten that while taking no risk. Hull et al. therefore use the equity risk premium as their target variable, rather than just the S&P 500 return. \n",
    "\n",
    "So how do you actually calculate the equity risk premium? Since we're working with monthly data we can define it as the S&P 500 Return over the next month minus the Risk Free Return over the next month. There are many different ways of defining the risk free return and a common way of doing it is by taking the return of US Treasuries. In Notebook 2 we downloaded the yield of the 3M treasury so we can use that. \n",
    "\n",
    "Note that this technically isn't a perfect proxy for the risk free return since we are looking for a 1M return while the 3M Treasury is based on holding the security for three months. But it'll suffice. Remember to convert the yield (which is an annual rate) into a monthly return. \n",
    "\n",
    "\n",
    "<a href='#snap_back_1'>go back to main body</a>"
   ]
  },
  {
   "cell_type": "markdown",
   "metadata": {},
   "source": [
    "<a id='#supplemental_content_2'></a>\n",
    "<span class=\"label label-success\"> Commentary and Supplemental Content </span>\n",
    "\n",
    "### The meaning of weights\n",
    "\n",
    "The Paper indicates that it allocates unequal weight for each observation in the dataset and that the weights are are function of time. From a technical perspective, when we refer to weights there is sometimes an implication that the sum of the weights is one. Note that when Hull et Al. refer to weights that is not the case. \n",
    "\n",
    "<a href='#snap_back_2'>go back to main body</a>"
   ]
  }
 ],
 "metadata": {
  "kernelspec": {
   "display_name": "Python [conda root]",
   "language": "python",
   "name": "conda-root-py"
  },
  "language_info": {
   "codemirror_mode": {
    "name": "ipython",
    "version": 3
   },
   "file_extension": ".py",
   "mimetype": "text/x-python",
   "name": "python",
   "nbconvert_exporter": "python",
   "pygments_lexer": "ipython3",
   "version": "3.5.2"
  }
 },
 "nbformat": 4,
 "nbformat_minor": 2
}
