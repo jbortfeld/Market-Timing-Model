{
 "cells": [
  {
   "cell_type": "markdown",
   "metadata": {},
   "source": [
    "# 0. Project Outline\n",
    "\n",
    "In this project we'll be stepping through the paper \"Return Predictability and Market-Timing: A One-Month Model\" by Blair Hull, Xiao Qiao, and Petra Bakosova (2017). \n",
    "\n",
    "### Learning Goals\n",
    "\n",
    "### Prerequisites\n",
    " * As a student in CS7646: Machine Learning for Trading you should be comfortable programming in Python, specifically using the Pandas and Numpy libraries. \n",
    " * Some background in basic statistics like linear regression. If you've taken Data and Visual Analytics then you'll be fine. \n",
    " * A background in economics or finance would help but the content from ML4T should suffice. \n",
    " \n",
    "### Software Requirements\n",
    " * Anaconda with Python 3.X\n",
    " \n",
    "### Course Outline\n",
    "\n",
    "There are five sections of \"Return Predictability and Market-Timing: A One-Month Model\", henceforth to be referred to as \"The Paper\", corresponding to (1) Introduction (2) Forecasting the One-Month Equity Risk Premium (3) A One-Month Market-Timing Strategy (4) Combining Market-Timing Strategies and (5) Conclusion. \n",
    "\n",
    "We'll spend this project covering (1), (2), (3), and (5). The other section (4) is not critical to the main thrust of the paper. There will be separate Jupyter notebooks for each section that we cover, just like this Project Outline notebook. \n",
    "\n",
    "In each notebook we will:\n",
    " * Read a section of The Paper\n",
    " * Explore additional content that will expand upon or provide background information on the content from The Paper\n",
    " * Take Assessment Quizzes and critically examine the methodology the paper took and the methodology you will decide to take\n",
    " * Engage in coding exercises to replicate the research of The Paper\n",
    "\n",
    "We will be using The Paper as our guide and our goal is to replicate the spirit of the paper but there may be research decisions that you don't agree with or believe you can improve upon. You are encouraged to have your own opinion and develop your own derivative strategy. \n",
    "\n"
   ]
  },
  {
   "cell_type": "code",
   "execution_count": null,
   "metadata": {},
   "outputs": [],
   "source": []
  },
  {
   "cell_type": "code",
   "execution_count": null,
   "metadata": {},
   "outputs": [],
   "source": []
  },
  {
   "cell_type": "code",
   "execution_count": null,
   "metadata": {},
   "outputs": [],
   "source": []
  },
  {
   "cell_type": "code",
   "execution_count": null,
   "metadata": {},
   "outputs": [],
   "source": []
  },
  {
   "cell_type": "code",
   "execution_count": null,
   "metadata": {},
   "outputs": [],
   "source": []
  },
  {
   "cell_type": "code",
   "execution_count": null,
   "metadata": {},
   "outputs": [],
   "source": []
  },
  {
   "cell_type": "code",
   "execution_count": null,
   "metadata": {},
   "outputs": [],
   "source": []
  }
 ],
 "metadata": {
  "kernelspec": {
   "display_name": "Python [conda root]",
   "language": "python",
   "name": "conda-root-py"
  },
  "language_info": {
   "codemirror_mode": {
    "name": "ipython",
    "version": 3
   },
   "file_extension": ".py",
   "mimetype": "text/x-python",
   "name": "python",
   "nbconvert_exporter": "python",
   "pygments_lexer": "ipython3",
   "version": "3.5.2"
  }
 },
 "nbformat": 4,
 "nbformat_minor": 1
}
