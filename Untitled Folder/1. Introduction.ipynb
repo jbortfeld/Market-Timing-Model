{
 "cells": [
  {
   "cell_type": "markdown",
   "metadata": {},
   "source": [
    "# 1. Introduction"
   ]
  },
  {
   "cell_type": "markdown",
   "metadata": {},
   "source": [
    "\n",
    "Welcome to the first unit of the project. You can find the full paper freely available on SSRN at https://papers.ssrn.com/sol3/papers.cfm?abstract_id=3050254 and read it there if you prefer. The full paper though will be reproduced in this and the other project notebooks. We recommend that you read the paper here within the notebook because we will discuss the notebook as we read through it. \n",
    "\n",
    "Below is the abstract from \"Return Predictability and Market-Timing: A One-Month Model.\" This will provide a general overview of what the paper's about and some of the main results. Let's start:"
   ]
  },
  {
   "cell_type": "markdown",
   "metadata": {},
   "source": [
    "<style>\n",
    "    .warning { color: red; }\n",
    "</style>"
   ]
  },
  {
   "cell_type": "markdown",
   "metadata": {},
   "source": [
    "<div class=\"alert alert-info\" role=\"alert\">\n",
    "<span class=\"label label-primary\"> The Paper </span>\n",
    "\n",
    "Abstract\n",
    "\n",
    "We propose a one-month market-timing model constructed from 15 diverse variables. We use\n",
    "weighted least squares with stepwise variable selection to build a predictive model for the one-month ahead market excess returns. From our statistical model, we transform our forecasts into investable\n",
    "positions to build a market-timing strategy. From 2003 to 2017, our strategy results in 16.6% annual\n",
    "returns with a 0.92 Sharpe ratio and a 20.3% maximum drawdown, whereas the S&P 500 has annual\n",
    "returns of 10%, a 0.46 Sharpe ratio, and a maximum drawdown of 55.2%. When our one-month model\n",
    "is used in conjunction with Hull and Qiao’s (2017) six-month model, the Sharpe ratio of the combined\n",
    "strategy exceeds the individual model Sharpe ratios. The combined model has 15% annual returns, a\n",
    "Sharpe ratio of 1.12, and a maximum drawdown of 14%. We publish forecasts from our one-month\n",
    "model in our Daily Report. "
   ]
  },
  {
   "cell_type": "markdown",
   "metadata": {},
   "source": [
    "<span class=\"label label-warning\"> Assessment Question: Evaluation </span>\n",
    "\n",
    "Most people will only skim the abstract of a paper and decide if it's relevant to what they want. If so, they may dive in further assuming that the paper is available and not behind a pay-wall. If the cost to access the paper is prohibitive, then the paper abstract is all that a reader might have to go on. That makes the abstract critically important, both as a marketing advertisement to read this paper and as an accurate and useful summary of the paper's results.  \n",
    "\n",
    "Before we dive into the proverbial sausage factory and try to replicate the above claimed results, what is your impression from the above pitch? Do you think this sounds like a good strategy? Would you personally invest your money in this strategy? Enter your initial thoughts below. We'll come back to this at the end of the project and compare your view then versus now. \n"
   ]
  },
  {
   "cell_type": "markdown",
   "metadata": {},
   "source": [
    "<div class=\"alert alert-warning\" role=\"alert\">\n",
    "[type your answer here]"
   ]
  },
  {
   "cell_type": "markdown",
   "metadata": {},
   "source": [
    "Ok, so let's start into the article:"
   ]
  },
  {
   "cell_type": "markdown",
   "metadata": {},
   "source": [
    "<div class=\"alert alert-info\" role=\"alert\">\n",
    "<span class=\"label label-primary\"> The Paper </span>\n",
    "\n",
    "1. Introduction\n",
    "\n",
    "Return predictability is a central issue in financial economics. Evidence of stock return\n",
    "predictability is supported by numerous academic research papers. Early work includes\n",
    "Campbell and Shiller (1988a, 1988b) and Fama and French (1988). More recently, several\n",
    "papers have presented convincing arguments in favor of predictability (Cochrane, 2005; Rapach,\n",
    "Strauss, and Zhou, 2010; Bollerslev, Tauchen, and Zhou, 2009; Jiang et al. 2015). Compared to\n",
    "the large body of work on statistical evidence of return predictability, there is relatively little\n",
    "work on the portfolio construction of market-timing strategies based on the proposed return\n",
    "predictors, or the economic importance for an investor who has the resources to engage in a\n",
    "market-timing strategy. Understanding the practical economic significance of market timing\n",
    "allows us to view predictability from the investor’s perspective rather than that of the\n",
    "econometrician. <br><br>\n",
    "\n",
    "Hull and Qiao (2017) illustrate the economic importance of return predictability through a\n",
    "market-timing strategy. They select from a set of 20 well-known return predictors, and combine\n",
    "these variables using correlation screening. They focus on the six-month future market excess\n",
    "returns. In the market-timing strategy proposed by Hull and Qiao (2017), the investor can\n",
    "achieve a Sharpe ratio of 0.85 from 2001 through 2015 by taking tactical positions in the S&P\n",
    "500, compared to a buy-and-hold Sharpe ratio of 0.21 over the same period. <br><br>\n",
    "\n",
    "Following the work of Hull and Qiao (2017), we present a novel market-timing strategy. Similar\n",
    "to Hull and Qiao (2017), we combine a large set of forecasting variables to allow for a diverse\n",
    "information set, and construct a reliable market-timing model. We consider several variables not\n",
    "used in Hull and Qiao (2017) including change in inflation, commodity price, housing starts,\n",
    "exchange rates, FRB Loan Officer Survey, delinquencies, and the change in unemployment rate.\n",
    "We discuss these variables in more detail in the data section. <br><br>\n",
    "\n",
    "Unlike Hull and Qiao (2017), we focus on forecasting one-month market excess returns rather\n",
    "than six-month market excess returns. The focus on shorter-term predictability renders many\n",
    "classic return predictors (such as price ratios) less useful in favor of variables that capture higher frequency movements in expected returns. Furthermore, several new variables, not included in\n",
    "Hull and Qiao (2017), capture macroeconomic conditions. Although macroeconomic variables\n",
    "are typically thought of as slow-moving, we find that combining them results in forming accurate\n",
    "forecasts of next-month excess market returns, which in turn helps us build a short-term markettiming\n",
    "model. <br><br>\n",
    "\n",
    "Our goal in this paper is to build a predictive model for the one-month future market excess\n",
    "returns and construct a market-timing strategy. We consider 15 return predictors. Some of these\n",
    "variables have been proposed in the predictability literature, whereas others, in our reading of the\n",
    "literature, are unique to our paper. We use weighted least squares (WLS) regression with\n",
    "stepwise variable selection to build a forecasting model for next month’s market excess returns.\n",
    "We estimate our forecasting model at the end of every month using an expanding window.\n",
    "Within each month, we hold the model parameters constant and form forecasts using updated\n",
    "predictor values each day. <br><br>\n",
    "\n",
    "\n",
    "Armed with our forecasting model, we construct a monthly market-timing strategy by\n",
    "transforming forecast values into investable positions. The restrictions we place on our\n",
    "transformation include 1) 0% invested in the S&P 500, and 100% invested in T-bills when the\n",
    "equity premium forecast is zero, 2) 100% invested in the S&P 500 when the forecast of the\n",
    "equity premium is equal to its historical average, and 3) maximum of 150% exposure to the S&P\n",
    "500 when the equity premium forecast is above its historical average. <br><br>\n",
    "\n",
    "We transform our equity premium forecast into investable positions to satisfy these conditions,\n",
    "and scale the positions to be inversely proportional to the root-mean-square error (RMSE) of our\n",
    "statistical model. The inverse of RMSE scaling can be interpreted as our confidence in our\n",
    "forecasts. If the RMSE of our fitted model is large, we are less confident and want to decrease\n",
    "our position, whereas if the RMSE is small, we are more confident in our model and increase our\n",
    "position.<br><br>\n",
    "\n",
    "From 2003 to 2017, the one-month market-timing model achieves annualized returns of 16.6%\n",
    "with a Sharpe ratio of 0.92. In the same period, buy-and-hold S&P 500 had 10% annualized\n",
    "returns and a 0.46 Sharpe ratio. The maximum drawdown of the market-timing strategy is 20%\n",
    "compared to 55% for buy-and-hold. The one-month strategy works even better when combined with Hull and Qiao’s (2017) six-month model. A portfolio of equal investments in Hull and\n",
    "Qiao’s (2017) six-month model and our one-month model results in 15% annualized returns with\n",
    "a Sharpe ratio of 0.92, and a maximum drawdown of only 14%. The improvement in riskadjusted\n",
    "return for the combined model comes from diversification across models. The onemonth\n",
    "and six-month models complement each other. Drawdowns for each strategy occur at\n",
    "different times, and the two strategies underperform buy-and-hold in different years. Combining\n",
    "the two market-timing strategies forms a more stable and robust portfolio than either stand-alone\n",
    "strategy. <br><br>\n",
    "\n",
    "Our paper fits into the literature on return predictability. Many academic studies of return\n",
    "predictability focus on longer horizons of one or more years (Cochrane, 2008; Welch and Goyal,\n",
    "2008). A smaller number of articles examine forecasting horizons shorter than one year.\n",
    "Bollerslev et al. (2009) investigate forecasting using the variance risk premium (VRP) at\n",
    "different horizons, and document a 1.07% adjusted R2 at the monthly frequency. Moskowitz et al.\n",
    "(2012) document past 12-month market returns are a positive indicator of next month market\n",
    "return. <br><br>\n",
    "\n",
    "Our paper is similar to Breen et al. (1989) who also try to illustrate the economic importance of\n",
    "return predictability from the investor’s perspective. Breen et al. (1989) calculates the value of\n",
    "market-timing to be worth 2% of the total assets under management. The authors construct their\n",
    "market-timing strategy using the negative relationship between stock returns and the nominal\n",
    "interest rate. We also put forward a market-timing model, but we consider a significantly larger\n",
    "set of predictors. We not only focus on the economic significance of market-timing, but also\n",
    "provide in-depth discussions of the statistical model and the implementation of an investment\n",
    "strategy. <br><br>\n",
    "\n",
    "The paper is organized as follows. We list our data sources and describe our statistical model in\n",
    "Section 2. In Section 3, we explain how to translate statistical results in Section 2 into a market-timing strategy. We proceed with an analysis of model combination in Section 4. Section 5\n",
    "concludes and suggests potential future research. <br><br>"
   ]
  },
  {
   "cell_type": "markdown",
   "metadata": {},
   "source": [
    "<span class=\"label label-success\"> Commentary and Supplemental Content </span>\n",
    "\n",
    "So that was quite a lot. The intro provided background info, referenced past research, and provided a game plan for the rest of the paper. There are a few ideas the paper brought up that are worth expanding upon:\n",
    "\n",
    "<i>\"Evidence of stock return predictability is supported by numerous academic research papers.\"</i>\n",
    "\n",
    "This is possibly a controversial statement! Obviously money managers and people who want to charge you a fee will tell you that stock's are predictable, and that specifically, they can do the predicting for you. But there is a long history pitting those that think stocks are predictiable versus those that do not. \n",
    "\n",
    "On the one side is the Efficient Market Hypothesis (EMH). At its code, the EMH is a theory that asset (stock) prices reflect all available information. Let's use an example: Let's say Apple's stock price is `$`100 at the end-of-the-day Monday. On Tuesday at 10am it is reported on CNBC that Apple lost the keys to their factory and cannot produce any more iPhones for the next month. The news is information and that information should therefore be incorporated into the price of Apple stock. Presumably the stock price will fall. Perhaps to `$`90, perhaps to `$`80, perhaps the stock even goes up to `$`110. We don't know and that's not really the point. The point is that the price reflects that information. A violation of EMH would be that the news comes out, people think it's bad for Apple but then no one buys or sells the stock because of that information and nothing happens to the stock price. \n",
    "\n"
   ]
  },
  {
   "cell_type": "markdown",
   "metadata": {},
   "source": [
    "<span class=\"label label-warning\">Assessment: Understand</span>\n",
    "\n",
    "In science, <b>Summarize</b> in your own words "
   ]
  },
  {
   "cell_type": "markdown",
   "metadata": {},
   "source": [
    "<a href=\"http://www.youtube.com/watch?feature=player_embedded&v=YOUTUBE_VIDEO_ID_HERE\n",
    "\" target=\"_blank\"><img src=\"http://img.youtube.com/vi/YOUTUBE_VIDEO_ID_HERE/0.jpg\" \n",
    "alt=\"IMAGE ALT TEXT HERE\" width=\"240\" height=\"180\" border=\"10\" /></a>"
   ]
  }
 ],
 "metadata": {
  "kernelspec": {
   "display_name": "Python [conda root]",
   "language": "python",
   "name": "conda-root-py"
  },
  "language_info": {
   "codemirror_mode": {
    "name": "ipython",
    "version": 3
   },
   "file_extension": ".py",
   "mimetype": "text/x-python",
   "name": "python",
   "nbconvert_exporter": "python",
   "pygments_lexer": "ipython3",
   "version": "3.5.2"
  }
 },
 "nbformat": 4,
 "nbformat_minor": 1
}
